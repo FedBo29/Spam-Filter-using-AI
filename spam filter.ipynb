{
 "cells": [
  {
   "cell_type": "markdown",
   "id": "a4efd308",
   "metadata": {},
   "source": [
    "# Spam filter with Machine Learning"
   ]
  },
  {
   "cell_type": "markdown",
   "id": "47d0586a",
   "metadata": {},
   "source": [
    "Text message SPAM filter with AI."
   ]
  },
  {
   "cell_type": "markdown",
   "id": "0d4ed2ba",
   "metadata": {},
   "source": [
    "# Building a Text Message Spam Filter with a Naive Bayes Classifier\n",
    "\n",
    "This tutorial explains how to classify text messages as SPAM / NOT SPAM using scikit-learn."
   ]
  },
  {
   "cell_type": "markdown",
   "id": "5d7fc558",
   "metadata": {},
   "source": [
    "# data preparation"
   ]
  },
  {
   "cell_type": "code",
   "execution_count": 1,
   "id": "bb3d3a92",
   "metadata": {},
   "outputs": [
    {
     "name": "stdout",
     "output_type": "stream",
     "text": [
      "Populating the interactive namespace from numpy and matplotlib\n",
      "0 means no spam\n",
      "1 means SPAM\n"
     ]
    }
   ],
   "source": [
    "%pylab inline\n",
    "messages=[]\n",
    "categories=[]\n",
    "y=[]\n",
    "for line in open('smsdata.txt', encoding='utf8'):\n",
    "    category, message= line.split('\\t')\n",
    "    messages.append(message)\n",
    "    categories.append(category)\n",
    "for item in categories:\n",
    "    if item == 'ham': \n",
    "        y.append(0) #no spam\n",
    "    else:\n",
    "        y.append(1) # SPAM\n",
    "print(\"0 means no spam\")\n",
    "print(\"1 means SPAM\")"
   ]
  },
  {
   "cell_type": "code",
   "execution_count": 2,
   "id": "c5e882ba",
   "metadata": {},
   "outputs": [],
   "source": [
    "from sklearn.feature_extraction.text import CountVectorizer, TfidfTransformer, ENGLISH_STOP_WORDS\n",
    "pattern='(?u)\\\\b[A-Za-z]{3,}'\n",
    "stop_words= set(list(ENGLISH_STOP_WORDS)+ ['test'])\n",
    "\n",
    "cv=CountVectorizer(token_pattern=pattern, stop_words=stop_words, ngram_range=(1,2))\n",
    "C=cv.fit_transform(messages)\n",
    "tfidf= TfidfTransformer()\n",
    "X= tfidf.fit_transform(C)"
   ]
  },
  {
   "cell_type": "code",
   "execution_count": 3,
   "id": "d1f15c88",
   "metadata": {},
   "outputs": [
    {
     "data": {
      "text/plain": [
       "<5574x32407 sparse matrix of type '<class 'numpy.float64'>'\n",
       "\twith 71644 stored elements in Compressed Sparse Row format>"
      ]
     },
     "execution_count": 3,
     "metadata": {},
     "output_type": "execute_result"
    }
   ],
   "source": [
    "X"
   ]
  },
  {
   "cell_type": "code",
   "execution_count": 4,
   "id": "1ca213cd",
   "metadata": {},
   "outputs": [],
   "source": [
    "feature_names = cv.get_feature_names();"
   ]
  },
  {
   "cell_type": "code",
   "execution_count": 5,
   "id": "6ecf5af2",
   "metadata": {},
   "outputs": [
    {
     "name": "stdout",
     "output_type": "stream",
     "text": [
      "['charged', 'charged month', 'confirm', 'confirm replying', 'mobile', 'mobile charged', 'month', 'month confirm', 'reply', 'reply charged', 'replying', 'replying yes', 'ringtone', 'ringtone mobile', 'subscription', 'subscription ringtone', 'thanks', 'thanks subscription', 'yes', 'yes reply']\n"
     ]
    }
   ],
   "source": [
    "print([feature_names[i] for i in C[34].nonzero()[1]]);"
   ]
  },
  {
   "cell_type": "markdown",
   "id": "e093e322",
   "metadata": {},
   "source": [
    "# model selection and fine tuning and model optimization\n",
    "\n",
    "In this section I will study which is the best model to analyse the dataset and use as a SPAM filter "
   ]
  },
  {
   "cell_type": "markdown",
   "id": "184ed488",
   "metadata": {},
   "source": [
    "from sklearn.model_selection import train_test_split"
   ]
  },
  {
   "cell_type": "markdown",
   "id": "2ae7bfa8",
   "metadata": {},
   "source": [
    "I slit the dataset in two. One will be used for the training, the last for the test phase."
   ]
  },
  {
   "cell_type": "code",
   "execution_count": 6,
   "id": "c8f2496c",
   "metadata": {},
   "outputs": [],
   "source": [
    "from sklearn.model_selection import train_test_split\n",
    "X_train, X_test, y_train, y_test= train_test_split(X,y, test_size=1/3, train_size=2/3, random_state=22)"
   ]
  },
  {
   "cell_type": "code",
   "execution_count": 7,
   "id": "023ae8b2",
   "metadata": {},
   "outputs": [
    {
     "data": {
      "text/plain": [
       "0.9687836383207751"
      ]
     },
     "execution_count": 7,
     "metadata": {},
     "output_type": "execute_result"
    }
   ],
   "source": [
    "from sklearn.naive_bayes import MultinomialNB\n",
    "model=MultinomialNB()\n",
    "model.fit(X_train, y_train)\n",
    "model.score(X_train, y_train)"
   ]
  },
  {
   "cell_type": "markdown",
   "id": "5bf30c8e",
   "metadata": {},
   "source": [
    "I have just tested the accuracy, defined as the ratio:\n",
    " $$ accuracy= \\frac{TP+TN}{P+N}$$\n",
    " \n",
    " with TP and TN that describe the true positive and true negative. The accuracy is defined in the range [0,1].\n",
    " A score closer to 1 means a good description of the data. \n",
    " Now we know the potential of the Multinomial Naive-Bayes on this dataset. We can try to fine-tune the model in order to reach the **best optimization**. \n",
    " \n",
    "The **cross validation** will be used in order to estimate the **out-of-sample error**, error on the generalization.  \n",
    "Preparing a grid of different value of **alpha**, a hyperparameter of MultinomialNB, I will evaluate two learning curves in order to avoid the **overfit** on the training dataset."
   ]
  },
  {
   "cell_type": "code",
   "execution_count": 8,
   "id": "e7e5eacd",
   "metadata": {},
   "outputs": [],
   "source": [
    "from sklearn.model_selection import cross_val_score"
   ]
  },
  {
   "cell_type": "code",
   "execution_count": 9,
   "id": "55de25de",
   "metadata": {},
   "outputs": [],
   "source": [
    "alphas=np.arange(0.1,1,0.05)"
   ]
  },
  {
   "cell_type": "code",
   "execution_count": 10,
   "id": "24bc4786",
   "metadata": {},
   "outputs": [],
   "source": [
    "validation_score=[]\n",
    "train_score=[]\n",
    "for a in alphas:\n",
    "    model=MultinomialNB(alpha=a)\n",
    "    model.fit(X_train,y_train)\n",
    "    train_score.append(model.score(X_train,y_train))\n",
    "    score=cross_val_score(model, X_train,y_train, cv=10)\n",
    "    validation_score.append(np.mean(score))"
   ]
  },
  {
   "cell_type": "code",
   "execution_count": 11,
   "id": "5374a104",
   "metadata": {},
   "outputs": [],
   "source": [
    "cross_val_score;"
   ]
  },
  {
   "cell_type": "code",
   "execution_count": 12,
   "id": "03de9b47",
   "metadata": {},
   "outputs": [
    {
     "name": "stdout",
     "output_type": "stream",
     "text": [
      "max at  0.9843919369330205\n"
     ]
    },
    {
     "data": {
      "image/png": "[encoded data removed]",
      "text/plain": [
       "<Figure size 432x288 with 1 Axes>"
      ]
     },
     "metadata": {
      "needs_background": "light"
     },
     "output_type": "display_data"
    }
   ],
   "source": [
    "plt.plot(alphas, train_score, label=\"in-sample-Error\")\n",
    "plt.plot(alphas, validation_score, label='out-of-sample Error')\n",
    "plt.legend()\n",
    "plt.title(\"Fine tuning alpha in MultinomialNB\")\n",
    "plt.xlabel(\"alpha\")\n",
    "plt.ylabel(\"score\")\n",
    "plt.axvline(x = alphas[np.argmax(validation_score)],color = 'red', linestyle = '--', alpha = 0.5)\n",
    "plt.grid()\n",
    "print(\"max at \", max(validation_score))"
   ]
  },
  {
   "cell_type": "code",
   "execution_count": 13,
   "id": "c0cb0b87",
   "metadata": {},
   "outputs": [
    {
     "data": {
      "text/plain": [
       "0.20000000000000004"
      ]
     },
     "execution_count": 13,
     "metadata": {},
     "output_type": "execute_result"
    }
   ],
   "source": [
    "alphas[np.argmax(validation_score)]"
   ]
  },
  {
   "cell_type": "code",
   "execution_count": 14,
   "id": "ac241a48",
   "metadata": {},
   "outputs": [],
   "source": [
    "model=MultinomialNB(alpha=alphas[np.argmax(validation_score)] )\n",
    "model.fit(X_train, y_train)\n",
    "y_model=model.predict(X_test)"
   ]
  },
  {
   "cell_type": "code",
   "execution_count": 15,
   "id": "58ded6aa",
   "metadata": {},
   "outputs": [
    {
     "data": {
      "text/plain": [
       "0.9516689994486152"
      ]
     },
     "execution_count": 15,
     "metadata": {},
     "output_type": "execute_result"
    }
   ],
   "source": [
    "from sklearn.metrics import roc_auc_score, roc_curve, RocCurveDisplay, DetCurveDisplay\n",
    "roc_auc_score(y_test, y_model, multi_class=\"ovr\")"
   ]
  },
  {
   "cell_type": "code",
   "execution_count": 16,
   "id": "406919a6",
   "metadata": {},
   "outputs": [],
   "source": [
    "from sklearn import metrics\n",
    "#fpr, tpr, thresholds = roc_curve(y_test, y_model)\n",
    "#roc_auc = metrics.auc(fpr, tpr)\n",
    "#display = RocCurveDisplay(fpr=fpr, tpr=tpr,roc_auc=roc_auc,estimator_name='example estimator')\n",
    "#display.plot()\n",
    "#plt.show()"
   ]
  },
  {
   "cell_type": "markdown",
   "id": "fc776b49",
   "metadata": {},
   "source": [
    "#roc_curve;"
   ]
  },
  {
   "cell_type": "markdown",
   "id": "99034158",
   "metadata": {},
   "source": [
    "One tool that is possible to use is the **ROC-curve**, a curve that describe the True Positive Rate (TPR) vs False Positive Rate (FPR) for a grid of different values of threshold applied on the **classifier output distribution**, the distribution in output from the model. Its area is called **ROC-AUC**:  a score close to 1 means a good true positive rate and a good false positve rate. The wrost score is 0.5."
   ]
  },
  {
   "cell_type": "code",
   "execution_count": 17,
   "id": "0ea34168",
   "metadata": {},
   "outputs": [
    {
     "data": {
      "text/plain": [
       "Text(0.5, 1.0, 'Receiver Operating Characteristic (ROC) curves')"
      ]
     },
     "execution_count": 17,
     "metadata": {},
     "output_type": "execute_result"
    },
    {
     "data": {
      "image/png": "[encoded data removed]",
      "text/plain": [
       "<Figure size 432x288 with 1 Axes>"
      ]
     },
     "metadata": {
      "needs_background": "light"
     },
     "output_type": "display_data"
    }
   ],
   "source": [
    "metrics.plot_roc_curve(model, X_test, y_test,  sample_weight=None, drop_intermediate=True, response_method='predict_proba', name=None, ax=None, pos_label=None )\n",
    "plt.grid()\n",
    "plt.title(\"Receiver Operating Characteristic (ROC) curves\")"
   ]
  },
  {
   "cell_type": "markdown",
   "id": "df4624ff",
   "metadata": {},
   "source": [
    "Once that I tested MultinomialNB I want to try other models in order to see their performance on the training set.\n",
    "Let's start with Random Forest and Logistic Regression!"
   ]
  },
  {
   "cell_type": "code",
   "execution_count": 18,
   "id": "36d94f8c",
   "metadata": {},
   "outputs": [],
   "source": [
    "from sklearn.ensemble import RandomForestClassifier\n",
    "#n_trees=np.arange(25,200,25)\n",
    "#score_tr=[]\n",
    "#score_val_tr=[]\n",
    "#for n_tr in n_trees:\n",
    "#    model2=RandomForestClassifier(n_estimators=n_tr)\n",
    "#    model2.fit(X_train, y_train)\n",
    "#    score_tr.append(model2.score(X_train,y_train))\n",
    "#    val_score=cross_val_score(model2, X_train, y_train, cv=5)\n",
    "#    score_val_tr.append(np.mean(val_score))"
   ]
  },
  {
   "cell_type": "code",
   "execution_count": 19,
   "id": "463c1e9e",
   "metadata": {},
   "outputs": [],
   "source": [
    "#plt.plot(n_trees, score_tr, label=\"in-sample-error RM\")\n",
    "#plt.plot(n_trees, score_val_tr, label=\"out-of-sample-error RM\")\n",
    "#plt.xlabel(\"Number of trees\")\n",
    "#plt.ylabel(\"score\")\n",
    "#plt.legend()\n",
    "#plt.grid()\n",
    "#plt.ylim(0.9,1.1)\n",
    "#print(\"max at \",n_trees[np.argmax(score_val_tr)], \"with score \", max(score_val_tr))"
   ]
  },
  {
   "cell_type": "code",
   "execution_count": 20,
   "id": "80458d5c",
   "metadata": {},
   "outputs": [
    {
     "data": {
      "text/plain": [
       "0.9316469321851453"
      ]
     },
     "execution_count": 20,
     "metadata": {},
     "output_type": "execute_result"
    }
   ],
   "source": [
    "#model2=RandomForestClassifier(n_estimators=n_trees[np.argmax(score_val_tr)])\n",
    "model2=RandomForestClassifier(n_estimators=50)\n",
    "model2.fit(X_train,y_train)\n",
    "from sklearn.linear_model import LogisticRegression\n",
    "model3=LogisticRegression()\n",
    "model3.fit(X_train, y_train)\n",
    "model3.score(X_test, y_test)"
   ]
  },
  {
   "cell_type": "markdown",
   "id": "2c525242",
   "metadata": {},
   "source": [
    "Let's try Perceptron algorithm!"
   ]
  },
  {
   "cell_type": "code",
   "execution_count": 21,
   "id": "3cd88952",
   "metadata": {},
   "outputs": [
    {
     "name": "stdout",
     "output_type": "stream",
     "text": [
      "Perceptron score:  0.9728208801863992\n"
     ]
    }
   ],
   "source": [
    "from sklearn.linear_model import Perceptron\n",
    "model4= Perceptron()\n",
    "model4.fit(X_train, y_train)\n",
    "scores=cross_val_score(model4, X_train, y_train, cv=5)\n",
    "print(\"Perceptron score: \",np.mean(scores))"
   ]
  },
  {
   "cell_type": "markdown",
   "id": "4fef470a",
   "metadata": {},
   "source": [
    "Here the comparison with all the different models!"
   ]
  },
  {
   "cell_type": "code",
   "execution_count": 22,
   "id": "e0e17379",
   "metadata": {},
   "outputs": [
    {
     "data": {
      "text/plain": [
       "<sklearn.metrics._plot.roc_curve.RocCurveDisplay at 0x27bf21abe80>"
      ]
     },
     "execution_count": 22,
     "metadata": {},
     "output_type": "execute_result"
    },
    {
     "data": {
      "image/png": "[encoded data removed]",
      "text/plain": [
       "<Figure size 432x288 with 1 Axes>"
      ]
     },
     "metadata": {
      "needs_background": "light"
     },
     "output_type": "display_data"
    }
   ],
   "source": [
    "ax_roc=plt.subplot(1,1,1)\n",
    "ax_roc.grid()\n",
    "ax_roc.set_title(\"Receiver Operating Characteristic (ROC) curves\")\n",
    "metrics.plot_roc_curve(model,  X_test, y_test,  sample_weight=None, drop_intermediate=True, response_method='predict_proba', name=None, ax=ax_roc, pos_label=None )\n",
    "metrics.plot_roc_curve(model2, X_test, y_test,  sample_weight=None, drop_intermediate=True, response_method='predict_proba', name=None, ax=ax_roc, pos_label=None )\n",
    "metrics.plot_roc_curve(model3, X_test, y_test,  sample_weight=None, drop_intermediate=True, response_method='predict_proba', name=None, ax=ax_roc, pos_label=None )\n",
    "metrics.plot_roc_curve(model4, X_test, y_test,  sample_weight=None, drop_intermediate=True,response_method='decision_function', name=None, ax=ax_roc, pos_label=None )"
   ]
  },
  {
   "cell_type": "code",
   "execution_count": 23,
   "id": "3ebaf0b6",
   "metadata": {},
   "outputs": [
    {
     "data": {
      "text/plain": [
       "<sklearn.metrics._plot.det_curve.DetCurveDisplay at 0x27bf21cf0d0>"
      ]
     },
     "execution_count": 23,
     "metadata": {},
     "output_type": "execute_result"
    },
    {
     "data": {
      "image/png": "[encoded data removed]",
      "text/plain": [
       "<Figure size 432x288 with 1 Axes>"
      ]
     },
     "metadata": {
      "needs_background": "light"
     },
     "output_type": "display_data"
    }
   ],
   "source": [
    "fpr, fnr, _= metrics.det_curve(y_test, model3.decision_function(X_test))\n",
    "display=metrics.DetCurveDisplay(fpr=fpr, fnr=fnr,estimator_name=\"Logistic Regr\")\n",
    "display.plot()"
   ]
  },
  {
   "cell_type": "code",
   "execution_count": 24,
   "id": "35d6a669",
   "metadata": {},
   "outputs": [
    {
     "name": "stdout",
     "output_type": "stream",
     "text": [
      "model Multinomial NB     score: 0.9800861141011841\n",
      "model RandomForest       score: 0.9682454251883746\n",
      "model LogisticRegression score: 0.9316469321851453\n",
      "model Peceptron score: 0.9752421959095802\n"
     ]
    }
   ],
   "source": [
    "print(\"model Multinomial NB     score:\", model.score(X_test, y_test))\n",
    "print(\"model RandomForest       score:\", model2.score(X_test, y_test))\n",
    "print(\"model LogisticRegression score:\", model3.score(X_test, y_test))\n",
    "print(\"model Peceptron score:\", model4.score(X_test, y_test))"
   ]
  },
  {
   "cell_type": "code",
   "execution_count": 25,
   "id": "a699d847",
   "metadata": {},
   "outputs": [],
   "source": [
    " model3.decision_function(X_test);"
   ]
  },
  {
   "cell_type": "code",
   "execution_count": 26,
   "id": "a44c606c",
   "metadata": {},
   "outputs": [],
   "source": [
    "model3.predict_proba(X_test);"
   ]
  },
  {
   "cell_type": "markdown",
   "id": "3ef22758",
   "metadata": {},
   "source": [
    "# Final model: Multinomial Naive-Bayes\n",
    "As a final model I will use Multinomial NB due to its performance. I will evaluate the model on the test set and I will print which message is considered SPAM for the model! "
   ]
  },
  {
   "cell_type": "code",
   "execution_count": 27,
   "id": "7ab3f37d",
   "metadata": {},
   "outputs": [
    {
     "data": {
      "text/plain": [
       "0.9800861141011841"
      ]
     },
     "execution_count": 27,
     "metadata": {},
     "output_type": "execute_result"
    }
   ],
   "source": [
    "array=model.predict(X_test)\n",
    "model.score(X_test, y_test)"
   ]
  },
  {
   "cell_type": "code",
   "execution_count": 28,
   "id": "57881f68",
   "metadata": {},
   "outputs": [],
   "source": [
    "dic=cv.vocabulary_\n",
    "text=messages[5400:]\n",
    "truth= y[5400:]\n",
    "dic;"
   ]
  },
  {
   "cell_type": "code",
   "execution_count": 29,
   "id": "e3fb4502",
   "metadata": {},
   "outputs": [],
   "source": [
    "cv2=CountVectorizer(token_pattern=pattern, vocabulary=dic, stop_words=stop_words, ngram_range=(1,2), )\n",
    "C=cv2.fit_transform(text)\n",
    "tfidf= TfidfTransformer()\n",
    "X= tfidf.fit_transform(C)"
   ]
  },
  {
   "cell_type": "code",
   "execution_count": 30,
   "id": "9af3966f",
   "metadata": {},
   "outputs": [
    {
     "data": {
      "text/plain": [
       "True"
      ]
     },
     "execution_count": 30,
     "metadata": {},
     "output_type": "execute_result"
    }
   ],
   "source": [
    "cv2.fixed_vocabulary_"
   ]
  },
  {
   "cell_type": "code",
   "execution_count": 31,
   "id": "70a18f84",
   "metadata": {},
   "outputs": [
    {
     "data": {
      "text/plain": [
       "<174x32407 sparse matrix of type '<class 'numpy.float64'>'\n",
       "\twith 2051 stored elements in Compressed Sparse Row format>"
      ]
     },
     "execution_count": 31,
     "metadata": {},
     "output_type": "execute_result"
    }
   ],
   "source": [
    "X"
   ]
  },
  {
   "cell_type": "code",
   "execution_count": 32,
   "id": "2fee9562",
   "metadata": {},
   "outputs": [],
   "source": [
    "modelF= model=MultinomialNB(alpha=0.2)\n",
    "modelF.fit(X_train, y_train)\n",
    "solutions=modelF.predict(X)"
   ]
  },
  {
   "cell_type": "code",
   "execution_count": 33,
   "id": "42fad771",
   "metadata": {},
   "outputs": [
    {
     "data": {
      "text/plain": [
       "174"
      ]
     },
     "execution_count": 33,
     "metadata": {},
     "output_type": "execute_result"
    }
   ],
   "source": [
    "solutions.size"
   ]
  },
  {
   "cell_type": "code",
   "execution_count": 34,
   "id": "d0944be1",
   "metadata": {},
   "outputs": [
    {
     "name": "stdout",
     "output_type": "stream",
     "text": [
      "1 \u001b[31m\" SPAM:  \u001b[0m Santa Calling! Would your little ones like a call from Santa Xmas eve? Call 09058094583 to book your time.\n",
      "\n",
      "1 \u001b[31m\" SPAM:  \u001b[0m You have won a guaranteed 32000 award or maybe even £1000 cash to claim ur award call free on 0800 ..... (18+). Its a legitimat efreefone number wat do u think???\n",
      "\n",
      "1 \u001b[31m\" SPAM:  \u001b[0m Latest News! Police station toilet stolen, cops have nothing to go on!\n",
      "\n",
      "1 \u001b[31m\" SPAM:  \u001b[0m \"For the most sparkling shopping breaks from 45 per person; call 0121 2025050 or visit www.shortbreaks.org.uk\"\n",
      "\n",
      "1 \u001b[31m\" SPAM:  \u001b[0m December only! Had your mobile 11mths+? You are entitled to update to the latest colour camera mobile for Free! Call The Mobile Update Co FREE on 08002986906\n",
      "\n",
      "1 \u001b[31m\" SPAM:  \u001b[0m Txt: CALL to No: 86888 & claim your reward of 3 hours talk time to use from your phone now! Subscribe6GBP/mnth inc 3hrs 16 stop?txtStop www.gamb.tv\n",
      "\n",
      "1 \u001b[31m\" SPAM:  \u001b[0m http//tms. widelive.com/index. wml?id=820554ad0a1705572711&first=true¡C C Ringtone¡\n",
      "\n",
      "1 \u001b[31m\" SPAM:  \u001b[0m Get your garden ready for summer with a FREE selection of summer bulbs and seeds worth £33:50 only with The Scotsman this Saturday. To stop go2 notxt.co.uk\n",
      "\n",
      "1 \u001b[31m\" SPAM:  \u001b[0m URGENT! Last weekend's draw shows that you have won £1000 cash or a Spanish holiday! CALL NOW 09050000332 to claim. T&C: RSTM, SW7 3SS. 150ppm\n",
      "\n",
      "1 \u001b[31m\" SPAM:  \u001b[0m URGENT We are trying to contact you Last weekends draw shows u have won a £1000 prize GUARANTEED Call 09064017295 Claim code K52 Valid 12hrs 150p pm\n",
      "\n",
      "1 \u001b[31m\" SPAM:  \u001b[0m 2p per min to call Germany 08448350055 from your BT line. Just 2p per min. Check PlanetTalkInstant.com for info & T's & C's. Text stop to opt out\n",
      "\n",
      "1 \u001b[31m\" SPAM:  \u001b[0m Marvel Mobile Play the official Ultimate Spider-man game (£4.50) on ur mobile right now. Text SPIDER to 83338 for the game & we ll send u a FREE 8Ball wallpaper\n",
      "\n",
      "1 \u001b[31m\" SPAM:  \u001b[0m SMS SERVICES. for your inclusive text credits, pls goto www.comuk.net login= 3qxj9 unsubscribe with STOP, no extra charge. help 08702840625.COMUK. 220-CM2 9AE\n",
      "\n",
      "1 \u001b[31m\" SPAM:  \u001b[0m PRIVATE! Your 2003 Account Statement for 07808247860 shows 800 un-redeemed S. I. M. points. Call 08719899229 Identifier Code: 40411 Expires 06/11/04\n",
      "\n",
      "1 \u001b[31m\" SPAM:  \u001b[0m You are awarded a SiPix Digital Camera! call 09061221061 from landline. Delivery within 28days. T Cs Box177. M221BP. 2yr warranty. 150ppm. 16 . p p£3.99\n",
      "\n",
      "1 \u001b[31m\" SPAM:  \u001b[0m PRIVATE! Your 2003 Account Statement for shows 800 un-redeemed S.I.M. points. Call 08718738001 Identifier Code: 49557 Expires 26/11/04\n",
      "\n",
      "1 \u001b[31m\" SPAM:  \u001b[0m Want explicit SEX in 30 secs? Ring 02073162414 now! Costs 20p/min Gsex POBOX 2667 WC1N 3XX\n",
      "\n",
      "1 \u001b[31m\" SPAM:  \u001b[0m ASKED 3MOBILE IF 0870 CHATLINES INCLU IN FREE MINS. INDIA CUST SERVs SED YES. L8ER GOT MEGA BILL. 3 DONT GIV A SHIT. BAILIFF DUE IN DAYS. I O £250 3 WANT £800\n",
      "\n",
      "1 \u001b[31m\" SPAM:  \u001b[0m Had your contract mobile 11 Mnths? Latest Motorola, Nokia etc. all FREE! Double Mins & Text on Orange tariffs. TEXT YES for callback, no to remove from records.\n",
      "\n",
      "1 \u001b[31m\" SPAM:  \u001b[0m REMINDER FROM O2: To get 2.50 pounds free call credit and details of great offers pls reply 2 this text with your valid name, house no and postcode\n",
      "\n",
      "1 \u001b[31m\" SPAM:  \u001b[0m This is the 2nd time we have tried 2 contact u. U have won the £750 Pound prize. 2 claim is easy, call 087187272008 NOW1! Only 10p per minute. BT-national-rate.\n",
      "\n"
     ]
    }
   ],
   "source": [
    "for i in range(solutions.size):\n",
    "    if solutions[i]==1:\n",
    "        print(truth[i],  \"\\x1b[31m\\\"\",\"SPAM: \",\"\\x1b[0m\", text[i])"
   ]
  },
  {
   "cell_type": "code",
   "execution_count": 35,
   "id": "38281101",
   "metadata": {},
   "outputs": [
    {
     "data": {
      "text/plain": [
       "1.0"
      ]
     },
     "execution_count": 35,
     "metadata": {},
     "output_type": "execute_result"
    }
   ],
   "source": [
    "roc_auc_score(truth, solutions)"
   ]
  }
 ],
 "metadata": {
  "kernelspec": {
   "display_name": "Python 3 (ipykernel)",
   "language": "python",
   "name": "python3"
  },
  "language_info": {
   "codemirror_mode": {
    "name": "ipython",
    "version": 3
   },
   "file_extension": ".py",
   "mimetype": "text/x-python",
   "name": "python",
   "nbconvert_exporter": "python",
   "pygments_lexer": "ipython3",
   "version": "3.9.7"
  }
 },
 "nbformat": 4,
 "nbformat_minor": 5
}
